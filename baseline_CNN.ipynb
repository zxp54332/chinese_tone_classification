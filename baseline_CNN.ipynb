{
 "cells": [
  {
   "cell_type": "markdown",
   "metadata": {},
   "source": [
    "## Data preprocessing"
   ]
  },
  {
   "cell_type": "markdown",
   "metadata": {},
   "source": [
    "### Take mini data for demo purpose"
   ]
  },
  {
   "cell_type": "code",
   "execution_count": 1,
   "metadata": {},
   "outputs": [],
   "source": [
    "import pandas as pd\n",
    "import torch\n",
    "import torchaudio\n",
    "import torch.nn as nn\n",
    "import torch.nn.functional as F\n",
    "import torch.optim as optim\n",
    "import numpy as np\n",
    "from tqdm.notebook import tqdm\n",
    "from sklearn.utils import shuffle\n",
    "\n",
    "\n",
    "valid_metadata = \"/data/tone_speech_cutwav/kaldi_cutwavs_new_2020/valid/metadata.csv\"\n",
    "test_metadata = \"/data/tone_speech_cutwav/kaldi_cutwavs_new_2020/test/metadata.csv\""
   ]
  },
  {
   "cell_type": "code",
   "execution_count": 2,
   "metadata": {},
   "outputs": [],
   "source": [
    "seed = 42\n",
    "valid_df = pd.read_csv(valid_metadata)\n",
    "valid_mini_df = valid_df\n",
    "valid_mini_df = valid_df.sample(n=10000, replace=False, random_state=seed)\n",
    "valid_mini_df = shuffle(valid_mini_df, random_state=seed)\n",
    "# 確保所有label存在\n",
    "# assert valid_mini_df.value_counts(\"label\").shape[0] == 5\n",
    "\n",
    "test_df = pd.read_csv(test_metadata)\n",
    "test_mini_df = test_df\n",
    "test_mini_df = test_df.sample(n=1000, replace=False, random_state=seed)\n",
    "test_mini_df = shuffle(test_mini_df, random_state=seed)\n",
    "# 確保所有label存在\n",
    "# assert test_mini_df.value_counts(\"label\").shape[0] == 5"
   ]
  },
  {
   "cell_type": "code",
   "execution_count": 3,
   "metadata": {},
   "outputs": [],
   "source": [
    "valid_mini_df.to_csv(\"valid10000.csv\", index=False)\n",
    "test_mini_df.to_csv(\"test1000.csv\", index=False)"
   ]
  },
  {
   "cell_type": "code",
   "execution_count": 4,
   "metadata": {},
   "outputs": [
    {
     "data": {
      "text/html": [
       "<div>\n",
       "<style scoped>\n",
       "    .dataframe tbody tr th:only-of-type {\n",
       "        vertical-align: middle;\n",
       "    }\n",
       "\n",
       "    .dataframe tbody tr th {\n",
       "        vertical-align: top;\n",
       "    }\n",
       "\n",
       "    .dataframe thead th {\n",
       "        text-align: right;\n",
       "    }\n",
       "</style>\n",
       "<table border=\"1\" class=\"dataframe\">\n",
       "  <thead>\n",
       "    <tr style=\"text-align: right;\">\n",
       "      <th></th>\n",
       "      <th>path</th>\n",
       "      <th>label</th>\n",
       "    </tr>\n",
       "  </thead>\n",
       "  <tbody>\n",
       "    <tr>\n",
       "      <th>297969</th>\n",
       "      <td>/data/tone_speech_cutwav/kaldi_cutwavs_new_202...</td>\n",
       "      <td>2</td>\n",
       "    </tr>\n",
       "    <tr>\n",
       "      <th>555044</th>\n",
       "      <td>/data/tone_speech_cutwav/kaldi_cutwavs_new_202...</td>\n",
       "      <td>0</td>\n",
       "    </tr>\n",
       "    <tr>\n",
       "      <th>195071</th>\n",
       "      <td>/data/tone_speech_cutwav/kaldi_cutwavs_new_202...</td>\n",
       "      <td>3</td>\n",
       "    </tr>\n",
       "    <tr>\n",
       "      <th>795283</th>\n",
       "      <td>/data/tone_speech_cutwav/kaldi_cutwavs_new_202...</td>\n",
       "      <td>0</td>\n",
       "    </tr>\n",
       "    <tr>\n",
       "      <th>1000486</th>\n",
       "      <td>/data/tone_speech_cutwav/kaldi_cutwavs_new_202...</td>\n",
       "      <td>0</td>\n",
       "    </tr>\n",
       "  </tbody>\n",
       "</table>\n",
       "</div>"
      ],
      "text/plain": [
       "                                                      path  label\n",
       "297969   /data/tone_speech_cutwav/kaldi_cutwavs_new_202...      2\n",
       "555044   /data/tone_speech_cutwav/kaldi_cutwavs_new_202...      0\n",
       "195071   /data/tone_speech_cutwav/kaldi_cutwavs_new_202...      3\n",
       "795283   /data/tone_speech_cutwav/kaldi_cutwavs_new_202...      0\n",
       "1000486  /data/tone_speech_cutwav/kaldi_cutwavs_new_202...      0"
      ]
     },
     "execution_count": 4,
     "metadata": {},
     "output_type": "execute_result"
    }
   ],
   "source": [
    "valid_mini_df.head()"
   ]
  },
  {
   "cell_type": "code",
   "execution_count": 5,
   "metadata": {},
   "outputs": [
    {
     "data": {
      "text/plain": [
       "5"
      ]
     },
     "execution_count": 5,
     "metadata": {},
     "output_type": "execute_result"
    }
   ],
   "source": [
    "num_labels = test_mini_df.value_counts(\"label\").shape[0]\n",
    "num_labels"
   ]
  },
  {
   "cell_type": "code",
   "execution_count": 6,
   "metadata": {},
   "outputs": [
    {
     "data": {
      "text/plain": [
       "(                                                      path  label\n",
       " 297969   /data/tone_speech_cutwav/kaldi_cutwavs_new_202...      2\n",
       " 555044   /data/tone_speech_cutwav/kaldi_cutwavs_new_202...      0\n",
       " 195071   /data/tone_speech_cutwav/kaldi_cutwavs_new_202...      3\n",
       " 795283   /data/tone_speech_cutwav/kaldi_cutwavs_new_202...      0\n",
       " 1000486  /data/tone_speech_cutwav/kaldi_cutwavs_new_202...      0,\n",
       "                                                       path  label\n",
       " 5747     /data/tone_speech_cutwav/kaldi_cutwavs_new_202...      0\n",
       " 1146900  /data/tone_speech_cutwav/kaldi_cutwavs_new_202...      3\n",
       " 1085930  /data/tone_speech_cutwav/kaldi_cutwavs_new_202...      2\n",
       " 30994    /data/tone_speech_cutwav/kaldi_cutwavs_new_202...      2\n",
       " 20928    /data/tone_speech_cutwav/kaldi_cutwavs_new_202...      0)"
      ]
     },
     "execution_count": 6,
     "metadata": {},
     "output_type": "execute_result"
    }
   ],
   "source": [
    "valid_mini_df.head(), test_mini_df.head()"
   ]
  },
  {
   "cell_type": "code",
   "execution_count": 7,
   "metadata": {},
   "outputs": [
    {
     "data": {
      "text/plain": [
       "3    3262\n",
       "1    2407\n",
       "0    1926\n",
       "2    1539\n",
       "4     866\n",
       "Name: label, dtype: int64"
      ]
     },
     "execution_count": 7,
     "metadata": {},
     "output_type": "execute_result"
    }
   ],
   "source": [
    "valid_mini_df[\"label\"].value_counts()"
   ]
  },
  {
   "cell_type": "code",
   "execution_count": 8,
   "metadata": {},
   "outputs": [
    {
     "data": {
      "text/plain": [
       "3    323\n",
       "1    236\n",
       "0    206\n",
       "2    154\n",
       "4     81\n",
       "Name: label, dtype: int64"
      ]
     },
     "execution_count": 8,
     "metadata": {},
     "output_type": "execute_result"
    }
   ],
   "source": [
    "test_mini_df[\"label\"].value_counts()"
   ]
  },
  {
   "cell_type": "code",
   "execution_count": 9,
   "metadata": {},
   "outputs": [],
   "source": [
    "from datasets import Dataset, Audio, load_dataset\n",
    "\n",
    "valid_dataset = Dataset.from_pandas(valid_mini_df)\n",
    "test_dataset = Dataset.from_pandas(test_mini_df)"
   ]
  },
  {
   "cell_type": "code",
   "execution_count": 10,
   "metadata": {},
   "outputs": [
    {
     "data": {
      "text/plain": [
       "{'path': Value(dtype='string', id=None),\n",
       " 'label': Value(dtype='int64', id=None),\n",
       " '__index_level_0__': Value(dtype='int64', id=None)}"
      ]
     },
     "execution_count": 10,
     "metadata": {},
     "output_type": "execute_result"
    }
   ],
   "source": [
    "valid_dataset.features"
   ]
  },
  {
   "cell_type": "code",
   "execution_count": 11,
   "metadata": {},
   "outputs": [],
   "source": [
    "valid_dataset = valid_dataset.remove_columns(\"__index_level_0__\")\n",
    "test_dataset = test_dataset.remove_columns(\"__index_level_0__\")"
   ]
  },
  {
   "cell_type": "code",
   "execution_count": 12,
   "metadata": {},
   "outputs": [
    {
     "data": {
      "text/plain": [
       "Dataset({\n",
       "    features: ['path', 'label'],\n",
       "    num_rows: 10000\n",
       "})"
      ]
     },
     "execution_count": 12,
     "metadata": {},
     "output_type": "execute_result"
    }
   ],
   "source": [
    "valid_dataset"
   ]
  },
  {
   "cell_type": "code",
   "execution_count": 13,
   "metadata": {},
   "outputs": [
    {
     "name": "stdout",
     "output_type": "stream",
     "text": [
      "max_length_pinyin 6\n",
      "char_mapping {'<pad>': 0, 'w': 1, 'o': 2, 'x': 3, 'i': 4, 'n': 5, 'g': 6, 's': 7, 'h': 8, 'd': 9, 'u': 10, 'a': 11, 'f': 12, 'j': 13, 'y': 14, 'l': 15, 'z': 16, 'e': 17, 't': 18, 'm': 19, 'c': 20, 'k': 21, 'r': 22, 'b': 23, 'p': 24, 'q': 25, 'ü': 26}\n"
     ]
    }
   ],
   "source": [
    "char_mapping = {\"<pad>\": 0}\n",
    "max_length_pinyin = 0\n",
    "for meta in valid_dataset:\n",
    "    pinyin = meta[\"path\"].split(\"__pin-\")[-1].split(\"__\")[0]\n",
    "    if len(pinyin) > max_length_pinyin:\n",
    "        max_length_pinyin = len(pinyin)\n",
    "    for char in pinyin:\n",
    "        char = char.lower()\n",
    "        if char not in char_mapping:\n",
    "            char_mapping[char] = len(char_mapping)\n",
    "\n",
    "print(\"max_length_pinyin\", max_length_pinyin)\n",
    "print(\"char_mapping\", char_mapping)"
   ]
  },
  {
   "cell_type": "code",
   "execution_count": 14,
   "metadata": {},
   "outputs": [
    {
     "data": {
      "text/plain": [
       "({'path': '/data/tone_speech_cutwav/kaldi_cutwavs_new_2020/valid/cutwav_word_dataset009_cutok_tones/3/ds009__line-49603__ind-001__len-0.25__gop-100__rr-100__pin-wo__tone-3----wǒ.wav',\n",
       "  'label': 2},\n",
       " {'path': Value(dtype='string', id=None),\n",
       "  'label': Value(dtype='int64', id=None)})"
      ]
     },
     "execution_count": 14,
     "metadata": {},
     "output_type": "execute_result"
    }
   ],
   "source": [
    "valid_dataset[0], valid_dataset.features"
   ]
  },
  {
   "cell_type": "code",
   "execution_count": 15,
   "metadata": {},
   "outputs": [
    {
     "data": {
      "text/plain": [
       "['path', 'label']"
      ]
     },
     "execution_count": 15,
     "metadata": {},
     "output_type": "execute_result"
    }
   ],
   "source": [
    "valid_dataset.column_names"
   ]
  },
  {
   "cell_type": "code",
   "execution_count": 16,
   "metadata": {},
   "outputs": [],
   "source": [
    "valid_dataset = valid_dataset.cast_column(\"path\", Audio(sampling_rate=16000))\n",
    "test_dataset = test_dataset.cast_column(\"path\", Audio(sampling_rate=16000))"
   ]
  },
  {
   "cell_type": "code",
   "execution_count": 17,
   "metadata": {},
   "outputs": [],
   "source": [
    "from datasets import Features, Array3D\n",
    "\n",
    "features = Features({\n",
    "    **valid_dataset.features,\n",
    "    \"audio_arrays\": Array3D(dtype=\"float32\", shape=(3, 128, 41)),\n",
    "})"
   ]
  },
  {
   "cell_type": "code",
   "execution_count": 18,
   "metadata": {},
   "outputs": [
    {
     "data": {
      "text/plain": [
       "{'path': Audio(sampling_rate=16000, mono=True, decode=True, id=None),\n",
       " 'label': Value(dtype='int64', id=None)}"
      ]
     },
     "execution_count": 18,
     "metadata": {},
     "output_type": "execute_result"
    }
   ],
   "source": [
    "valid_dataset.features"
   ]
  },
  {
   "cell_type": "code",
   "execution_count": 19,
   "metadata": {},
   "outputs": [
    {
     "data": {
      "text/plain": [
       "{'path': {'path': '/data/tone_speech_cutwav/kaldi_cutwavs_new_2020/valid/cutwav_word_dataset009_cutok_tones/3/ds009__line-49603__ind-001__len-0.25__gop-100__rr-100__pin-wo__tone-3----wǒ.wav',\n",
       "  'array': array([0.00015259, 0.00036621, 0.00067139, ..., 0.01321411, 0.01324463,\n",
       "         0.01293945], dtype=float32),\n",
       "  'sampling_rate': 16000},\n",
       " 'label': 2}"
      ]
     },
     "execution_count": 19,
     "metadata": {},
     "output_type": "execute_result"
    }
   ],
   "source": [
    "valid_dataset[0]"
   ]
  },
  {
   "cell_type": "code",
   "execution_count": 23,
   "metadata": {},
   "outputs": [
    {
     "data": {
      "text/plain": [
       "16000"
      ]
     },
     "execution_count": 23,
     "metadata": {},
     "output_type": "execute_result"
    }
   ],
   "source": [
    "sampling_rate"
   ]
  },
  {
   "cell_type": "code",
   "execution_count": 24,
   "metadata": {},
   "outputs": [],
   "source": [
    "def waveform_to_mel(batch):\n",
    "    return torchaudio.transforms.MelSpectrogram(sampling_rate, n_fft=400, n_mels=128)(batch)\n",
    "\n",
    "def waveform_to_mfcc(batch):\n",
    "    return torchaudio.transforms.MFCC(sampling_rate, n_mfcc=25)(batch)"
   ]
  },
  {
   "cell_type": "code",
   "execution_count": 26,
   "metadata": {
    "scrolled": true
   },
   "outputs": [
    {
     "data": {
      "application/vnd.jupyter.widget-view+json": {
       "model_id": "987d3216efbe4333a0b70613fbd6bbad",
       "version_major": 2,
       "version_minor": 0
      },
      "text/plain": [
       "  0%|          | 0/5000 [00:00<?, ?ba/s]"
      ]
     },
     "metadata": {},
     "output_type": "display_data"
    },
    {
     "name": "stdout",
     "output_type": "stream",
     "text": [
      "(2, 3, 128, 41)\n"
     ]
    },
    {
     "ename": "SystemExit",
     "evalue": "",
     "output_type": "error",
     "traceback": [
      "An exception has occurred, use %tb to see the full traceback.\n",
      "\u001b[0;31mSystemExit\u001b[0m\n"
     ]
    }
   ],
   "source": [
    "channel = 0\n",
    "sampling_rate = 16000\n",
    "max_length = int(sampling_rate * 0.5) # 0.5秒\n",
    "\n",
    "\n",
    "def prepare_dataset(batch):    \n",
    "    audio_arrays = []\n",
    "    for x in batch[\"path\"]:\n",
    "        if x[\"array\"].shape[-1] < max_length:\n",
    "            audio_arrays.append(np.pad(x[\"array\"], (0,  max_length-x[\"array\"].shape[-1]), \"constant\"))\n",
    "            # audio_arrays.append(F.pad(torch.from_numpy(x[\"array\"]), (0, max_length-x[\"array\"].shape[-1])))\n",
    "        else:\n",
    "            # audio_arrays.append(torch.from_numpy(x[\"array\"])[:max_length])\n",
    "            audio_arrays.append(x[\"array\"][:max_length])\n",
    "\n",
    "    audio_arrays = np.stack(audio_arrays, axis=0)\n",
    "\n",
    "    # tensors = torch.stack(audio_arrays)\n",
    "    tensors = waveform_to_mel(torch.from_numpy(audio_arrays)).unsqueeze(1).repeat(1, 3, 1, 1)\n",
    "    tensors = waveform_to_mfcc(torch.from_numpy(audio_arrays)).unsqueeze(1).repeat(1, 3, 1, 1)\n",
    "    batch[\"audio_arrays\"] = tensors.numpy()\n",
    "    return batch\n",
    "\n",
    "valid_dataset = valid_dataset.map(prepare_dataset, batched=True, batch_size=2, num_proc=1, features=features)\n",
    "valid_dataset = valid_dataset.remove_columns(\"path\")"
   ]
  },
  {
   "cell_type": "code",
   "execution_count": 149,
   "metadata": {},
   "outputs": [],
   "source": [
    "# valid_dataset = valid_dataset.with_format(\"torch\")\n",
    "valid_dataset = valid_dataset.with_format(\"numpy\")"
   ]
  },
  {
   "cell_type": "code",
   "execution_count": 150,
   "metadata": {},
   "outputs": [
    {
     "data": {
      "text/plain": [
       "numpy.ndarray"
      ]
     },
     "execution_count": 150,
     "metadata": {},
     "output_type": "execute_result"
    }
   ],
   "source": [
    "type(valid_dataset[0][\"audio_arrays\"])"
   ]
  },
  {
   "cell_type": "code",
   "execution_count": 151,
   "metadata": {},
   "outputs": [],
   "source": [
    "valid_dataset.save_to_disk(\"valid10000.cache\")"
   ]
  },
  {
   "cell_type": "code",
   "execution_count": 152,
   "metadata": {},
   "outputs": [],
   "source": [
    "from datasets import load_from_disk\n",
    "\n",
    "loaded_valid_dataset = load_from_disk(\"valid10000.cache\")"
   ]
  },
  {
   "cell_type": "code",
   "execution_count": 153,
   "metadata": {},
   "outputs": [
    {
     "data": {
      "text/plain": [
       "(3, 128, 41)"
      ]
     },
     "execution_count": 153,
     "metadata": {},
     "output_type": "execute_result"
    }
   ],
   "source": [
    "loaded_valid_dataset[0][\"audio_arrays\"].shape"
   ]
  },
  {
   "cell_type": "code",
   "execution_count": 154,
   "metadata": {},
   "outputs": [
    {
     "data": {
      "text/plain": [
       "{'label': Value(dtype='int64', id=None),\n",
       " 'pinyin_ids': Sequence(feature=Value(dtype='int64', id=None), length=-1, id=None),\n",
       " 'audio_arrays': Array3D(shape=(3, 128, 41), dtype='float32', id=None)}"
      ]
     },
     "execution_count": 154,
     "metadata": {},
     "output_type": "execute_result"
    }
   ],
   "source": [
    "loaded_valid_dataset.features"
   ]
  },
  {
   "cell_type": "code",
   "execution_count": 155,
   "metadata": {},
   "outputs": [
    {
     "data": {
      "text/plain": [
       "(10000, 3)"
      ]
     },
     "execution_count": 155,
     "metadata": {},
     "output_type": "execute_result"
    }
   ],
   "source": [
    "loaded_valid_dataset.shape"
   ]
  },
  {
   "cell_type": "code",
   "execution_count": 156,
   "metadata": {},
   "outputs": [],
   "source": [
    "from torch.utils.data import Dataset\n",
    "\n",
    "class ToneDataset(Dataset):\n",
    "    def __init__(self, dataset):\n",
    "        self.ds = dataset\n",
    "\n",
    "    def __len__(self):\n",
    "        return self.ds.shape[0]\n",
    "\n",
    "    def __getitem__(self,idx):\n",
    "        return self.ds[idx][\"audio_arrays\"], self.ds[idx][\"label\"], self.ds[idx][\"pinyin_ids\"]"
   ]
  },
  {
   "cell_type": "code",
   "execution_count": 157,
   "metadata": {},
   "outputs": [],
   "source": [
    "td = ToneDataset(loaded_valid_dataset)"
   ]
  },
  {
   "cell_type": "code",
   "execution_count": 158,
   "metadata": {},
   "outputs": [],
   "source": [
    "valid_dataloader = torch.utils.data.DataLoader(td, batch_size=512, pin_memory=False)"
   ]
  },
  {
   "cell_type": "code",
   "execution_count": 222,
   "metadata": {},
   "outputs": [
    {
     "data": {
      "text/plain": [
       "torch.Size([512, 6])"
      ]
     },
     "execution_count": 222,
     "metadata": {},
     "output_type": "execute_result"
    }
   ],
   "source": [
    "mels, labels, ids = next(iter(valid_dataloader))\n",
    "ids.shape"
   ]
  },
  {
   "cell_type": "markdown",
   "metadata": {},
   "source": [
    "## Build Dataset and Dataloader"
   ]
  },
  {
   "cell_type": "code",
   "execution_count": 164,
   "metadata": {},
   "outputs": [
    {
     "name": "stdout",
     "output_type": "stream",
     "text": [
      "num of batch: 20\n"
     ]
    }
   ],
   "source": [
    "print(\"num of batch:\", len(valid_dataloader))"
   ]
  },
  {
   "cell_type": "code",
   "execution_count": 166,
   "metadata": {},
   "outputs": [
    {
     "data": {
      "text/plain": [
       "torch.Size([512, 3, 128, 41])"
      ]
     },
     "execution_count": 166,
     "metadata": {},
     "output_type": "execute_result"
    }
   ],
   "source": [
    "mels.shape"
   ]
  },
  {
   "cell_type": "markdown",
   "metadata": {},
   "source": [
    "## Build model"
   ]
  },
  {
   "cell_type": "code",
   "execution_count": 62,
   "metadata": {},
   "outputs": [
    {
     "data": {
      "text/plain": [
       "'cuda'"
      ]
     },
     "execution_count": 62,
     "metadata": {},
     "output_type": "execute_result"
    }
   ],
   "source": [
    "device = \"cuda\" if torch.cuda.is_available() else \"cpu\"\n",
    "device"
   ]
  },
  {
   "cell_type": "code",
   "execution_count": 206,
   "metadata": {},
   "outputs": [],
   "source": [
    "class TextClassificationModel(nn.Module):\n",
    "\n",
    "    def __init__(self, vocab_size, embed_dim, num_class):\n",
    "        super(TextClassificationModel, self).__init__()\n",
    "        self.embedding = nn.EmbeddingBag(vocab_size, embed_dim, sparse=True, padding_idx=0)\n",
    "        self.fc = nn.Linear(embed_dim, num_class)\n",
    "        self.init_weights()\n",
    "\n",
    "    def init_weights(self):\n",
    "        initrange = 0.5\n",
    "        self.embedding.weight.data.uniform_(-initrange, initrange)\n",
    "        self.fc.weight.data.uniform_(-initrange, initrange)\n",
    "        self.fc.bias.data.zero_()\n",
    "\n",
    "    def forward(self, text, offsets):\n",
    "        embedded = self.embedding(text, offsets)\n",
    "        return self.fc(embedded)"
   ]
  },
  {
   "cell_type": "code",
   "execution_count": 207,
   "metadata": {},
   "outputs": [
    {
     "data": {
      "text/plain": [
       "(27, tensor([1, 2, 0, 0, 0, 0, 3, 4, 5, 6, 0, 0, 7, 8, 4, 0, 0, 0]))"
      ]
     },
     "execution_count": 207,
     "metadata": {},
     "output_type": "execute_result"
    }
   ],
   "source": [
    "len(char_mapping), torch.flatten(ids)[:18]"
   ]
  },
  {
   "cell_type": "code",
   "execution_count": 208,
   "metadata": {},
   "outputs": [],
   "source": [
    "text_model = TextClassificationModel(vocab_size=len(char_mapping), embed_dim=4, num_class=5)\n",
    "\n",
    "# ids = torch.flatten(ids)\n",
    "# offsets = torch.tensor(list(range(0, len(ids), 6)))"
   ]
  },
  {
   "cell_type": "code",
   "execution_count": 209,
   "metadata": {},
   "outputs": [
    {
     "data": {
      "text/plain": [
       "tensor([[ 0.1645,  0.0064,  0.0301,  0.1418, -0.1266],\n",
       "        [-0.0623,  0.0494, -0.0706, -0.0265, -0.0162],\n",
       "        [ 0.0650,  0.0112, -0.0672,  0.0592, -0.1478],\n",
       "        ...,\n",
       "        [ 0.0060,  0.0453, -0.0562,  0.0454, -0.0582],\n",
       "        [-0.0759,  0.0959, -0.1619,  0.0501, -0.0718],\n",
       "        [-0.1155, -0.0486, -0.0402, -0.0985,  0.0704]],\n",
       "       grad_fn=<AddmmBackward0>)"
      ]
     },
     "execution_count": 209,
     "metadata": {},
     "output_type": "execute_result"
    }
   ],
   "source": [
    "# text_model(ids, offsets=offsets)"
   ]
  },
  {
   "cell_type": "code",
   "execution_count": 211,
   "metadata": {},
   "outputs": [],
   "source": [
    "class CNNet(nn.Module):\n",
    "    def __init__(self):\n",
    "        super().__init__()\n",
    "        self.conv1 = nn.Conv2d(3, 32, kernel_size=5)\n",
    "        self.conv2 = nn.Conv2d(32, 64, kernel_size=5)\n",
    "        self.conv2_drop = nn.Dropout2d()\n",
    "        self.flatten = nn.Flatten()\n",
    "        self.fc1 = nn.Linear(12992, 50)\n",
    "        self.fc2 = nn.Linear(50, num_labels)\n",
    "\n",
    "    def forward(self, x):\n",
    "        x = F.relu(F.max_pool2d(self.conv1(x), 2))\n",
    "        x = F.relu(F.max_pool2d(self.conv2_drop(self.conv2(x)), 2))\n",
    "        x = self.flatten(x)\n",
    "        x = F.relu(self.fc1(x))\n",
    "        x = F.dropout(x, training=self.training)\n",
    "        x = F.relu(self.fc2(x))\n",
    "        return x"
   ]
  },
  {
   "cell_type": "code",
   "execution_count": 229,
   "metadata": {},
   "outputs": [],
   "source": [
    "class CustomTextCNN(nn.Module):\n",
    "    def __init__(self, vocab_size, text_embed_dim, num_class=5):\n",
    "        super().__init__()\n",
    "        self.cnn = CNNet()\n",
    "        self.text_model = TextClassificationModel(vocab_size=vocab_size, embed_dim=text_embed_dim, num_class=num_class)\n",
    "        self.text_norm = nn.LayerNorm(num_class)\n",
    "        self.cnn_norm = nn.LayerNorm(num_class)\n",
    "        self.fc = nn.Linear(5, 5)\n",
    "\n",
    "    def forward(self, audio_arrays, ids, offsets):\n",
    "        cnn_logits = self.cnn(audio_arrays)\n",
    "        text_logits = self.text_model(ids, offsets=offsets)\n",
    "        cnn_logits = F.dropout(self.cnn_norm(cnn_logits), training=self.training)\n",
    "        text_logits = F.dropout(self.text_norm(text_logits), training=self.training)\n",
    "        x = F.relu(self.fc(cnn_logits + text_logits))\n",
    "        return x"
   ]
  },
  {
   "cell_type": "code",
   "execution_count": 230,
   "metadata": {},
   "outputs": [],
   "source": [
    "device = \"cuda\"\n",
    "model = CustomTextCNN(len(char_mapping), text_embed_dim=4).to(device)\n",
    "ids = torch.flatten(ids)\n",
    "offsets = torch.tensor(list(range(0, len(ids), 6)))\n",
    "\n",
    "with torch.no_grad():\n",
    "    out = model(mels.to(device), ids.to(device), offsets.to(device))"
   ]
  },
  {
   "cell_type": "code",
   "execution_count": 232,
   "metadata": {},
   "outputs": [
    {
     "data": {
      "text/plain": [
       "(torch.Size([512, 5]),\n",
       " tensor([[2.4251, 1.8390, 2.4724, 0.5134, 0.0000],\n",
       "         [0.1095, 0.2833, 0.0000, 1.0244, 0.0000],\n",
       "         [1.7786, 0.1817, 1.0451, 0.0000, 0.0000],\n",
       "         ...,\n",
       "         [0.0000, 0.0334, 0.6131, 0.5267, 0.4194],\n",
       "         [0.0000, 0.0000, 0.1205, 0.6587, 0.0000],\n",
       "         [0.5025, 2.1733, 2.6778, 0.0000, 0.5759]], device='cuda:0'))"
      ]
     },
     "execution_count": 232,
     "metadata": {},
     "output_type": "execute_result"
    }
   ],
   "source": [
    "out.shape, out"
   ]
  },
  {
   "cell_type": "markdown",
   "metadata": {},
   "source": [
    "## Train and test"
   ]
  },
  {
   "cell_type": "code",
   "execution_count": 66,
   "metadata": {},
   "outputs": [],
   "source": [
    "# cost function used to determine best parameters\n",
    "cost = torch.nn.CrossEntropyLoss()\n",
    "\n",
    "# used to create optimal parameters\n",
    "learning_rate = 0.0001\n",
    "optimizer = torch.optim.Adam(model.parameters(), lr=learning_rate)\n",
    "\n",
    "# Create the training function\n",
    "\n",
    "def train(dataloader, model, loss, optimizer):\n",
    "    model.train()\n",
    "    size = len(dataloader.dataset)\n",
    "    train_loss, correct = 0, 0\n",
    "\n",
    "    for batch, (X, Y) in tqdm(enumerate(dataloader)):\n",
    "        X, Y = X.to(device), Y.to(device)\n",
    "        optimizer.zero_grad()\n",
    "        pred = model(X)\n",
    "        loss = cost(pred, Y)\n",
    "        loss.backward()\n",
    "        optimizer.step()\n",
    "\n",
    "        train_loss += loss.item()\n",
    "        correct += (pred.argmax(1)==Y).type(torch.float).sum().item()\n",
    "\n",
    "    train_loss /= size\n",
    "    correct /= size\n",
    "    # print(f'\\nTrain:\\nacc: {(100*correct):>0.1f}%, avg loss: {train_loss:>8f}\\n')\n",
    "    return train_loss, correct\n",
    "\n",
    "\n",
    "# Create the validation/test function\n",
    "def test(dataloader, model):\n",
    "    size = len(dataloader.dataset)\n",
    "    model.eval()\n",
    "    test_loss, correct = 0, 0\n",
    "\n",
    "    with torch.no_grad():\n",
    "        for batch, (X, Y) in tqdm(enumerate(dataloader)):\n",
    "            X, Y = X.to(device), Y.to(device)\n",
    "            pred = model(X)\n",
    "\n",
    "            test_loss += cost(pred, Y).item()\n",
    "            correct += (pred.argmax(1)==Y).type(torch.float).sum().item()\n",
    "\n",
    "    test_loss /= size\n",
    "    correct /= size\n",
    "\n",
    "    # print(f'\\nTest:\\nacc: {(100*correct):>0.1f}%, avg loss: {test_loss:>8f}\\n')\n",
    "    return test_loss, correct"
   ]
  },
  {
   "cell_type": "code",
   "execution_count": 67,
   "metadata": {
    "scrolled": true
   },
   "outputs": [
    {
     "name": "stdout",
     "output_type": "stream",
     "text": [
      "valid num_batch: 10000\n",
      "test num_batch: 1000\n"
     ]
    }
   ],
   "source": [
    "print(\"valid num_batch:\", len(valid_dataloader.dataset))\n",
    "print(\"test num_batch:\", len(test_dataloader.dataset))"
   ]
  },
  {
   "cell_type": "code",
   "execution_count": 68,
   "metadata": {},
   "outputs": [
    {
     "data": {
      "application/vnd.jupyter.widget-view+json": {
       "model_id": "d62bb9a35456447e9ffdc5d90f415e31",
       "version_major": 2,
       "version_minor": 0
      },
      "text/plain": [
       "0it [00:00, ?it/s]"
      ]
     },
     "metadata": {},
     "output_type": "display_data"
    },
    {
     "data": {
      "application/vnd.jupyter.widget-view+json": {
       "model_id": "69be0b4ef5c74bc9984331beb891cc22",
       "version_major": 2,
       "version_minor": 0
      },
      "text/plain": [
       "0it [00:00, ?it/s]"
      ]
     },
     "metadata": {},
     "output_type": "display_data"
    }
   ],
   "source": [
    "epochs = 1\n",
    "train_losses = []\n",
    "val_losses = []\n",
    "train_acc = []\n",
    "val_acc = []\n",
    "\n",
    "for _ in range(epochs):\n",
    "    train_loss, train_correct = train(valid_dataloader, model, cost, optimizer)\n",
    "    test_loss, test_correct = test(test_dataloader, model)\n",
    "    train_losses.append(train_loss)\n",
    "    train_acc.append(train_correct)\n",
    "    val_losses.append(test_loss)\n",
    "    val_acc.append(test_correct)\n"
   ]
  },
  {
   "cell_type": "code",
   "execution_count": 69,
   "metadata": {},
   "outputs": [
    {
     "data": {
      "image/png": "[encoded data removed]",
      "text/plain": [
       "<Figure size 1000x500 with 1 Axes>"
      ]
     },
     "metadata": {},
     "output_type": "display_data"
    }
   ],
   "source": [
    "import matplotlib.pyplot as plt\n",
    "\n",
    "\n",
    "plt.figure(figsize=(10,5))\n",
    "plt.title(\"Training and Validation Loss\")\n",
    "plt.plot(train_losses,label=\"train\")\n",
    "plt.plot(val_losses,label=\"val\")\n",
    "plt.xlabel(\"Epochs\")\n",
    "plt.ylabel(\"Loss\")\n",
    "plt.legend()\n",
    "plt.show()"
   ]
  },
  {
   "cell_type": "code",
   "execution_count": 70,
   "metadata": {},
   "outputs": [
    {
     "data": {
      "image/png": "[encoded data removed]",
      "text/plain": [
       "<Figure size 1000x500 with 1 Axes>"
      ]
     },
     "metadata": {},
     "output_type": "display_data"
    }
   ],
   "source": [
    "plt.figure(figsize=(10,5))\n",
    "plt.title(\"Training and Validation Accuracy\")\n",
    "plt.plot(train_acc,label=\"train\")\n",
    "plt.plot(val_acc,label=\"val\")\n",
    "plt.xlabel(\"Epochs\")\n",
    "plt.ylabel(\"Accuracy\")\n",
    "plt.legend()\n",
    "plt.show()"
   ]
  },
  {
   "cell_type": "code",
   "execution_count": 71,
   "metadata": {},
   "outputs": [
    {
     "data": {
      "text/plain": [
       "[0.1976]"
      ]
     },
     "execution_count": 71,
     "metadata": {},
     "output_type": "execute_result"
    }
   ],
   "source": [
    "train_acc"
   ]
  },
  {
   "cell_type": "code",
   "execution_count": 80,
   "metadata": {},
   "outputs": [
    {
     "name": "stderr",
     "output_type": "stream",
     "text": [
      "/home/vincent0730/ML_chinese_tone_classification/venv/lib/python3.8/site-packages/torchaudio/functional/functional.py:571: UserWarning: At least one mel filterbank has all zero values. The value for `n_mels` (128) may be set too high. Or, the value for `n_freqs` (201) may be set too low.\n",
      "  warnings.warn(\n"
     ]
    }
   ],
   "source": [
    "model.eval()\n",
    "predict = []\n",
    "labels = []\n",
    "with torch.no_grad():\n",
    "    for X, Y in test_dataloader:\n",
    "        X = X.to(device)\n",
    "        pred = model(X)\n",
    "        predict.extend(pred.argmax(1).tolist())\n",
    "        labels.extend(Y.tolist())"
   ]
  },
  {
   "cell_type": "code",
   "execution_count": 81,
   "metadata": {},
   "outputs": [
    {
     "data": {
      "image/png": "[encoded data removed]",
      "text/plain": [
       "<Figure size 1000x700 with 1 Axes>"
      ]
     },
     "metadata": {},
     "output_type": "display_data"
    },
    {
     "ename": "",
     "evalue": "",
     "output_type": "error",
     "traceback": [
      "\u001b[1;31mThe Kernel crashed while executing code in the the current cell or a previous cell. Please review the code in the cell(s) to identify a possible cause of the failure. Click <a href='https://aka.ms/vscodeJupyterKernelCrash'>here</a> for more info. View Jupyter <a href='command:jupyter.viewOutput'>log</a> for further details."
     ]
    }
   ],
   "source": [
    "from sklearn.metrics import confusion_matrix\n",
    "import seaborn as sn\n",
    "\n",
    "\n",
    "# confusion matrix\n",
    "df = pd.DataFrame({\"tone\": labels, \"predict\": predict})\n",
    "array = confusion_matrix(df[\"tone\"], df[\"predict\"])\n",
    "cf_arrays = [array]\n",
    "\n",
    "for array in cf_arrays:\n",
    "    df_cm = (pd.DataFrame(array, index=[\"0\", \"1\", \"2\", \"3\", \"4\"], columns=[\"0\", \"1\", \"2\", \"3\", \"4\"]),)\n",
    "    fig1 = plt.figure(figsize=(10, 7))\n",
    "    sn.heatmap(df_cm[0], annot=True, cmap=\"Blues_r\", fmt=\"d\", cbar=False)\n",
    "    plt.xlabel(\"Pred\")\n",
    "    plt.ylabel(\"True\")\n",
    "    plt.savefig(\"confusion_matrix.png\")"
   ]
  }
 ],
 "metadata": {
  "kernelspec": {
   "display_name": "Python 3 (ipykernel)",
   "language": "python",
   "name": "python3"
  },
  "language_info": {
   "codemirror_mode": {
    "name": "ipython",
    "version": 3
   },
   "file_extension": ".py",
   "mimetype": "text/x-python",
   "name": "python",
   "nbconvert_exporter": "python",
   "pygments_lexer": "ipython3",
   "version": "3.8.13"
  },
  "vscode": {
   "interpreter": {
    "hash": "99d8511c2003bcf03d98c0f52dc17325dc78748128b4fd67609b335d4d455964"
   }
  }
 },
 "nbformat": 4,
 "nbformat_minor": 2
}
